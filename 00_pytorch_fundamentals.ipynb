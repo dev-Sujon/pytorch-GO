{
  "nbformat": 4,
  "nbformat_minor": 0,
  "metadata": {
    "colab": {
      "provenance": [],
      "gpuType": "T4"
    },
    "kernelspec": {
      "name": "python3",
      "display_name": "Python 3"
    },
    "language_info": {
      "name": "python"
    },
    "accelerator": "GPU"
  },
  "cells": [
    {
      "cell_type": "markdown",
      "source": [
        "# 00. Pytorch Functionals\n"
      ],
      "metadata": {
        "id": "ZHqEN7kVmQbi"
      }
    },
    {
      "cell_type": "code",
      "source": [
        "!nvidia-smi"
      ],
      "metadata": {
        "colab": {
          "base_uri": "https://localhost:8080/"
        },
        "id": "d2jv4Rqol11H",
        "outputId": "273c2641-516d-4798-d44e-e29833969324"
      },
      "execution_count": 2,
      "outputs": [
        {
          "output_type": "stream",
          "name": "stdout",
          "text": [
            "Tue Jul  2 17:57:35 2024       \n",
            "+---------------------------------------------------------------------------------------+\n",
            "| NVIDIA-SMI 535.104.05             Driver Version: 535.104.05   CUDA Version: 12.2     |\n",
            "|-----------------------------------------+----------------------+----------------------+\n",
            "| GPU  Name                 Persistence-M | Bus-Id        Disp.A | Volatile Uncorr. ECC |\n",
            "| Fan  Temp   Perf          Pwr:Usage/Cap |         Memory-Usage | GPU-Util  Compute M. |\n",
            "|                                         |                      |               MIG M. |\n",
            "|=========================================+======================+======================|\n",
            "|   0  Tesla T4                       Off | 00000000:00:04.0 Off |                    0 |\n",
            "| N/A   54C    P8              10W /  70W |      0MiB / 15360MiB |      0%      Default |\n",
            "|                                         |                      |                  N/A |\n",
            "+-----------------------------------------+----------------------+----------------------+\n",
            "                                                                                         \n",
            "+---------------------------------------------------------------------------------------+\n",
            "| Processes:                                                                            |\n",
            "|  GPU   GI   CI        PID   Type   Process name                            GPU Memory |\n",
            "|        ID   ID                                                             Usage      |\n",
            "|=======================================================================================|\n",
            "|  No running processes found                                                           |\n",
            "+---------------------------------------------------------------------------------------+\n"
          ]
        }
      ]
    },
    {
      "cell_type": "code",
      "source": [
        "import torch\n",
        "import pandas as pd\n",
        "import numpy as np\n",
        "import matplotlib.pyplot as plt\n",
        "print(torch.__version__)"
      ],
      "metadata": {
        "colab": {
          "base_uri": "https://localhost:8080/"
        },
        "id": "wQOQYW4tmLMg",
        "outputId": "b2624b86-2ee8-45f9-881e-0533fdcc4e19"
      },
      "execution_count": 6,
      "outputs": [
        {
          "output_type": "stream",
          "name": "stdout",
          "text": [
            "2.3.0+cu121\n"
          ]
        }
      ]
    },
    {
      "cell_type": "code",
      "source": [
        "print(\"I'm exite to learn pytorch\")"
      ],
      "metadata": {
        "colab": {
          "base_uri": "https://localhost:8080/"
        },
        "id": "Jv-2E89HmLJZ",
        "outputId": "0bf657f6-c8c0-4cb2-85e5-ab0222fd236b"
      },
      "execution_count": 7,
      "outputs": [
        {
          "output_type": "stream",
          "name": "stdout",
          "text": [
            "I'm exite to learn pytorch\n"
          ]
        }
      ]
    },
    {
      "cell_type": "markdown",
      "source": [
        "## Introduction to Tensors\n",
        "Creating tensor   [Data representation of deep learning in tensor]"
      ],
      "metadata": {
        "id": "x_v12A6HnoOV"
      }
    },
    {
      "cell_type": "markdown",
      "source": [
        "### scaler tensor"
      ],
      "metadata": {
        "id": "3yhBg573pRL6"
      }
    },
    {
      "cell_type": "code",
      "source": [
        "scaler = torch.tensor(10)\n",
        "scaler"
      ],
      "metadata": {
        "colab": {
          "base_uri": "https://localhost:8080/"
        },
        "id": "pLavq46amLG6",
        "outputId": "4e6bd181-22d0-4afe-9025-97c0fe1c23fc"
      },
      "execution_count": 9,
      "outputs": [
        {
          "output_type": "execute_result",
          "data": {
            "text/plain": [
              "tensor(10)"
            ]
          },
          "metadata": {},
          "execution_count": 9
        }
      ]
    },
    {
      "cell_type": "code",
      "source": [
        "scaler.ndim"
      ],
      "metadata": {
        "colab": {
          "base_uri": "https://localhost:8080/"
        },
        "id": "mN6z7qklnlMQ",
        "outputId": "0b38e04a-1a51-4c42-ed02-115b77d36c1b"
      },
      "execution_count": 10,
      "outputs": [
        {
          "output_type": "execute_result",
          "data": {
            "text/plain": [
              "0"
            ]
          },
          "metadata": {},
          "execution_count": 10
        }
      ]
    },
    {
      "cell_type": "code",
      "source": [
        "scaler.shape"
      ],
      "metadata": {
        "colab": {
          "base_uri": "https://localhost:8080/"
        },
        "id": "uBbY5sb0nlJZ",
        "outputId": "6f36550f-d555-4984-8024-6b7d56c77556"
      },
      "execution_count": 11,
      "outputs": [
        {
          "output_type": "execute_result",
          "data": {
            "text/plain": [
              "torch.Size([])"
            ]
          },
          "metadata": {},
          "execution_count": 11
        }
      ]
    },
    {
      "cell_type": "code",
      "source": [
        "# scaler in tensor pytorch\n",
        "scaler = torch.tensor(10)\n",
        "print(scaler)\n",
        "print(scaler.ndim)  # number of dimensions\n",
        "print(scaler.shape)  # size of each dimension\n"
      ],
      "metadata": {
        "colab": {
          "base_uri": "https://localhost:8080/"
        },
        "id": "1Ce316q1mLAY",
        "outputId": "4f21aae3-2980-4984-cc10-ff5c590f866d"
      },
      "execution_count": 19,
      "outputs": [
        {
          "output_type": "stream",
          "name": "stdout",
          "text": [
            "tensor(10)\n",
            "0\n",
            "torch.Size([])\n"
          ]
        }
      ]
    },
    {
      "cell_type": "code",
      "source": [
        "true_scaler = torch.tensor(True)\n",
        "true_scaler"
      ],
      "metadata": {
        "colab": {
          "base_uri": "https://localhost:8080/"
        },
        "id": "SSGyiqT0mBaq",
        "outputId": "463032d5-4b9b-4c86-a1e1-a9a717b8250f"
      },
      "execution_count": 20,
      "outputs": [
        {
          "output_type": "execute_result",
          "data": {
            "text/plain": [
              "tensor(True)"
            ]
          },
          "metadata": {},
          "execution_count": 20
        }
      ]
    },
    {
      "cell_type": "code",
      "source": [
        "\n",
        "false_scaler = torch.tensor(not True)\n",
        "false_scaler"
      ],
      "metadata": {
        "colab": {
          "base_uri": "https://localhost:8080/"
        },
        "id": "uEACkQQ1mBXn",
        "outputId": "1d1fc712-bf37-4d10-be37-182149bfc3e2"
      },
      "execution_count": 21,
      "outputs": [
        {
          "output_type": "execute_result",
          "data": {
            "text/plain": [
              "tensor(False)"
            ]
          },
          "metadata": {},
          "execution_count": 21
        }
      ]
    },
    {
      "cell_type": "markdown",
      "source": [
        "### vector"
      ],
      "metadata": {
        "id": "xOySRDuZqAf-"
      }
    },
    {
      "cell_type": "code",
      "source": [
        "vactor_tensor = torch.tensor([1, 2, 3])\n",
        "vactor_tensor"
      ],
      "metadata": {
        "colab": {
          "base_uri": "https://localhost:8080/"
        },
        "id": "ohk-CrEnmBVA",
        "outputId": "614afac9-a632-4305-a940-ad7921823cca"
      },
      "execution_count": 24,
      "outputs": [
        {
          "output_type": "execute_result",
          "data": {
            "text/plain": [
              "tensor([1, 2, 3])"
            ]
          },
          "metadata": {},
          "execution_count": 24
        }
      ]
    },
    {
      "cell_type": "code",
      "source": [
        "vect = torch.tensor([True, not True, not False])\n",
        "vect"
      ],
      "metadata": {
        "colab": {
          "base_uri": "https://localhost:8080/"
        },
        "id": "3RRDAuSmmBRw",
        "outputId": "da90d705-9dfc-4a99-8b01-148dabc5da0f"
      },
      "execution_count": 25,
      "outputs": [
        {
          "output_type": "execute_result",
          "data": {
            "text/plain": [
              "tensor([ True, False,  True])"
            ]
          },
          "metadata": {},
          "execution_count": 25
        }
      ]
    },
    {
      "cell_type": "code",
      "source": [
        "# creating a tensor from a numpy array\n",
        "# 1D tensor\n",
        "array_tensor = torch.tensor(np.array([1, 2, 3]))\n",
        "print(array_tensor)\n",
        "print(array_tensor.ndim)\n",
        "print(array_tensor.shape)"
      ],
      "metadata": {
        "colab": {
          "base_uri": "https://localhost:8080/"
        },
        "id": "z-uX040OqPtG",
        "outputId": "9641e6ef-1489-4bd9-a005-745beb36d2ba"
      },
      "execution_count": 29,
      "outputs": [
        {
          "output_type": "stream",
          "name": "stdout",
          "text": [
            "tensor([1, 2, 3])\n",
            "1\n",
            "torch.Size([3])\n"
          ]
        }
      ]
    },
    {
      "cell_type": "markdown",
      "source": [
        "### Matrix"
      ],
      "metadata": {
        "id": "RH2k3V7yqgl4"
      }
    },
    {
      "cell_type": "code",
      "source": [
        "MATRIX = torch.tensor([[1, 2, 3],\n",
        "                       [4, 5, 6],\n",
        "                       [7, 8, 9]])\n",
        "print(MATRIX)\n",
        "print(\"Total number of dimensions :\",MATRIX.ndim)\n",
        "print(\"Total number of shape :\",MATRIX.shape)"
      ],
      "metadata": {
        "colab": {
          "base_uri": "https://localhost:8080/"
        },
        "id": "ftJzp0-kqWSt",
        "outputId": "241081c6-1a5b-4bf8-aac0-ae421b4f54d7"
      },
      "execution_count": 32,
      "outputs": [
        {
          "output_type": "stream",
          "name": "stdout",
          "text": [
            "tensor([[1, 2, 3],\n",
            "        [4, 5, 6],\n",
            "        [7, 8, 9]])\n",
            "Total number of dimensions : 2\n",
            "Total number of shape : torch.Size([3, 3])\n"
          ]
        }
      ]
    },
    {
      "cell_type": "markdown",
      "source": [
        "### Tensor"
      ],
      "metadata": {
        "id": "ZdMzyn4Jq-uY"
      }
    },
    {
      "cell_type": "code",
      "source": [
        "Tensor = torch.tensor([[[10, 11, 12],\n",
        "                        [13, 14, 15],\n",
        "                        [16, 17, 18]]])\n",
        "print(Tensor)\n",
        "print(\"Total number of dimensions :\",Tensor.ndim)\n",
        "print(\"Total number of shape :\",Tensor.shape)"
      ],
      "metadata": {
        "colab": {
          "base_uri": "https://localhost:8080/"
        },
        "id": "zlrYTrJDqrem",
        "outputId": "1d16688f-32d6-43ac-897f-76c12d3948f0"
      },
      "execution_count": 35,
      "outputs": [
        {
          "output_type": "stream",
          "name": "stdout",
          "text": [
            "tensor([[[10, 11, 12],\n",
            "         [13, 14, 15],\n",
            "         [16, 17, 18]]])\n",
            "Total number of dimensions : 3\n",
            "Total number of shape : torch.Size([1, 3, 3])\n"
          ]
        }
      ]
    },
    {
      "cell_type": "code",
      "source": [
        "Tensor.ndim"
      ],
      "metadata": {
        "colab": {
          "base_uri": "https://localhost:8080/"
        },
        "id": "1XRotlDxrP3o",
        "outputId": "a9bfde40-98f8-4afe-b952-b706224e4119"
      },
      "execution_count": 34,
      "outputs": [
        {
          "output_type": "execute_result",
          "data": {
            "text/plain": [
              "4"
            ]
          },
          "metadata": {},
          "execution_count": 34
        }
      ]
    },
    {
      "cell_type": "markdown",
      "source": [
        "| Name   | What is it? | Number of dimensions | Lower or upper (usually/example) |\n",
        "|--------|-------------|----------------------|----------------------------------|\n",
        "| scalar | a single number | 0 | Lower (a) |\n",
        "| vector | a number with direction (e.g. wind speed with direction) but can also have many other numbers | 1 | Lower (y) |\n",
        "| matrix | a 2-dimensional array of numbers | 2 | Upper (Q) |\n",
        "| tensor | an n-dimensional array of numbers; can be any number, a 0-dimension tensor is a scalar, a 1-dimension tensor is a vector | can be any number, a 0-dimension tensor is a scalar, a 1-dimension tensor is a vector | Upper (X) |\n"
      ],
      "metadata": {
        "id": "gNbA9sk3tObM"
      }
    },
    {
      "cell_type": "code",
      "source": [
        "Tensor[0]"
      ],
      "metadata": {
        "colab": {
          "base_uri": "https://localhost:8080/"
        },
        "id": "LSS-4ezGuPDp",
        "outputId": "cc83bcaf-455c-4f5c-de39-311c59bef35f"
      },
      "execution_count": 36,
      "outputs": [
        {
          "output_type": "execute_result",
          "data": {
            "text/plain": [
              "tensor([[10, 11, 12],\n",
              "        [13, 14, 15],\n",
              "        [16, 17, 18]])"
            ]
          },
          "metadata": {},
          "execution_count": 36
        }
      ]
    },
    {
      "cell_type": "markdown",
      "source": [
        "### Random Tensors\n",
        "Random tensors are important because the way many neural networks learn is that\n",
        "they start with tensors full of random numbers and then adjust those numbers to\n",
        "better represent the data.\n",
        "\n",
        "`Start with random numbers -> look at data -> update random numbers -> look at data -> update random numbers`"
      ],
      "metadata": {
        "id": "dBSpjPzduXOg"
      }
    },
    {
      "cell_type": "code",
      "source": [
        "# create a ramdom tensors of shape (3, 4)\n",
        "random_tensor = torch.rand(5,4)\n",
        "\n",
        "random_tensor"
      ],
      "metadata": {
        "colab": {
          "base_uri": "https://localhost:8080/"
        },
        "id": "km0skwEIuPGB",
        "outputId": "28cd7c50-2e85-4b3f-c3eb-c63cc8d32636"
      },
      "execution_count": 46,
      "outputs": [
        {
          "output_type": "execute_result",
          "data": {
            "text/plain": [
              "tensor([[0.1380, 0.0680, 0.8981, 0.4444],\n",
              "        [0.8465, 0.6610, 0.0560, 0.8718],\n",
              "        [0.5725, 0.2244, 0.8796, 0.0165],\n",
              "        [0.2177, 0.7618, 0.1033, 0.0088],\n",
              "        [0.8110, 0.6547, 0.1401, 0.9855]])"
            ]
          },
          "metadata": {},
          "execution_count": 46
        }
      ]
    },
    {
      "cell_type": "code",
      "source": [
        "random_tensor.ndim"
      ],
      "metadata": {
        "colab": {
          "base_uri": "https://localhost:8080/"
        },
        "id": "9qbeQpa_rZv9",
        "outputId": "7502f467-84ef-4bd0-f77a-beef105cd81e"
      },
      "execution_count": 47,
      "outputs": [
        {
          "output_type": "execute_result",
          "data": {
            "text/plain": [
              "2"
            ]
          },
          "metadata": {},
          "execution_count": 47
        }
      ]
    },
    {
      "cell_type": "code",
      "source": [
        "random_tensor.shape"
      ],
      "metadata": {
        "colab": {
          "base_uri": "https://localhost:8080/"
        },
        "id": "bPJ0H-w1stSu",
        "outputId": "97c2a08f-46f3-49a9-bcaa-41d7e17277bd"
      },
      "execution_count": 48,
      "outputs": [
        {
          "output_type": "execute_result",
          "data": {
            "text/plain": [
              "torch.Size([5, 4])"
            ]
          },
          "metadata": {},
          "execution_count": 48
        }
      ]
    },
    {
      "cell_type": "code",
      "source": [
        "# create a random tensor with similar shape to an image tensor\n",
        "random_image_tensor = torch.rand(size=(224, 224, 3)) # height ,width ,colour channels\n",
        "random_image_tensor"
      ],
      "metadata": {
        "colab": {
          "base_uri": "https://localhost:8080/"
        },
        "id": "9getALCCstPc",
        "outputId": "de074aff-7235-4bb5-b252-56d9825fea6f"
      },
      "execution_count": 50,
      "outputs": [
        {
          "output_type": "execute_result",
          "data": {
            "text/plain": [
              "tensor([[[0.3873, 0.7824, 0.1394],\n",
              "         [0.6242, 0.3356, 0.3415],\n",
              "         [0.5228, 0.1490, 0.7373],\n",
              "         ...,\n",
              "         [0.5311, 0.8525, 0.5146],\n",
              "         [0.6594, 0.0911, 0.2819],\n",
              "         [0.5394, 0.1532, 0.1808]],\n",
              "\n",
              "        [[0.0629, 0.6698, 0.3130],\n",
              "         [0.3835, 0.2439, 0.0657],\n",
              "         [0.8826, 0.0832, 0.1179],\n",
              "         ...,\n",
              "         [0.8495, 0.8988, 0.7709],\n",
              "         [0.4546, 0.9279, 0.5411],\n",
              "         [0.9418, 0.8855, 0.3204]],\n",
              "\n",
              "        [[0.2974, 0.5559, 0.3278],\n",
              "         [0.7538, 0.8421, 0.3760],\n",
              "         [0.6700, 0.5882, 0.7476],\n",
              "         ...,\n",
              "         [0.8207, 0.9605, 0.1036],\n",
              "         [0.4967, 0.8635, 0.5215],\n",
              "         [0.7538, 0.2103, 0.7086]],\n",
              "\n",
              "        ...,\n",
              "\n",
              "        [[0.3439, 0.4740, 0.4642],\n",
              "         [0.3608, 0.8765, 0.9541],\n",
              "         [0.0155, 0.8607, 0.9659],\n",
              "         ...,\n",
              "         [0.9139, 0.6485, 0.6444],\n",
              "         [0.9753, 0.4669, 0.6109],\n",
              "         [0.7138, 0.6796, 0.4227]],\n",
              "\n",
              "        [[0.6881, 0.4042, 0.8845],\n",
              "         [0.3153, 0.7421, 0.4551],\n",
              "         [0.6173, 0.2795, 0.5627],\n",
              "         ...,\n",
              "         [0.1521, 0.9904, 0.6121],\n",
              "         [0.1879, 0.5938, 0.6798],\n",
              "         [0.7406, 0.2038, 0.9535]],\n",
              "\n",
              "        [[0.0281, 0.7669, 0.4156],\n",
              "         [0.0178, 0.6740, 0.4985],\n",
              "         [0.1859, 0.3834, 0.0140],\n",
              "         ...,\n",
              "         [0.0011, 0.9970, 0.3150],\n",
              "         [0.0396, 0.3528, 0.0784],\n",
              "         [0.2738, 0.6614, 0.9884]]])"
            ]
          },
          "metadata": {},
          "execution_count": 50
        }
      ]
    },
    {
      "cell_type": "code",
      "source": [
        "torch.rand(3, 3)"
      ],
      "metadata": {
        "colab": {
          "base_uri": "https://localhost:8080/"
        },
        "id": "n6N7X-0LstMU",
        "outputId": "49fac439-13c9-4443-e985-4de6da121dcd"
      },
      "execution_count": 51,
      "outputs": [
        {
          "output_type": "execute_result",
          "data": {
            "text/plain": [
              "tensor([[0.5313, 0.1702, 0.4140],\n",
              "        [0.8962, 0.5868, 0.4402],\n",
              "        [0.9953, 0.3244, 0.8734]])"
            ]
          },
          "metadata": {},
          "execution_count": 51
        }
      ]
    },
    {
      "cell_type": "markdown",
      "source": [
        "### Zeros and Ones"
      ],
      "metadata": {
        "id": "zKpGC2CfwfqJ"
      }
    },
    {
      "cell_type": "code",
      "source": [
        "# create a tensor of all zeros\n",
        "zeros = torch.zeros(size=(3, 4))\n",
        "zeros"
      ],
      "metadata": {
        "colab": {
          "base_uri": "https://localhost:8080/"
        },
        "id": "otePI37YstJd",
        "outputId": "4ddf8719-7c16-4de8-c693-9dd8f9b4c944"
      },
      "execution_count": 53,
      "outputs": [
        {
          "output_type": "execute_result",
          "data": {
            "text/plain": [
              "tensor([[0., 0., 0., 0.],\n",
              "        [0., 0., 0., 0.],\n",
              "        [0., 0., 0., 0.]])"
            ]
          },
          "metadata": {},
          "execution_count": 53
        }
      ]
    },
    {
      "cell_type": "code",
      "source": [
        "ones = torch.ones(size=(3, 4))\n",
        "ones"
      ],
      "metadata": {
        "colab": {
          "base_uri": "https://localhost:8080/"
        },
        "id": "lC6iOU7DuO9n",
        "outputId": "7ad157ce-e0d3-470b-e89b-892a4630bdbc"
      },
      "execution_count": 54,
      "outputs": [
        {
          "output_type": "execute_result",
          "data": {
            "text/plain": [
              "tensor([[1., 1., 1., 1.],\n",
              "        [1., 1., 1., 1.],\n",
              "        [1., 1., 1., 1.]])"
            ]
          },
          "metadata": {},
          "execution_count": 54
        }
      ]
    },
    {
      "cell_type": "code",
      "source": [
        "zeros * ones"
      ],
      "metadata": {
        "colab": {
          "base_uri": "https://localhost:8080/"
        },
        "id": "8esKx9sDwoST",
        "outputId": "481d86a2-5af7-4967-821e-920cec4fa4e6"
      },
      "execution_count": 57,
      "outputs": [
        {
          "output_type": "execute_result",
          "data": {
            "text/plain": [
              "tensor([[0., 0., 0., 0.],\n",
              "        [0., 0., 0., 0.],\n",
              "        [0., 0., 0., 0.]])"
            ]
          },
          "metadata": {},
          "execution_count": 57
        }
      ]
    },
    {
      "cell_type": "code",
      "source": [
        "zeros.dtype, ones.dtype"
      ],
      "metadata": {
        "colab": {
          "base_uri": "https://localhost:8080/"
        },
        "id": "AIasGFuowsfZ",
        "outputId": "01e4fdde-4c1b-42c3-e345-149d43b340a3"
      },
      "execution_count": 59,
      "outputs": [
        {
          "output_type": "execute_result",
          "data": {
            "text/plain": [
              "(torch.float32, torch.float32)"
            ]
          },
          "metadata": {},
          "execution_count": 59
        }
      ]
    },
    {
      "cell_type": "code",
      "source": [],
      "metadata": {
        "id": "ha3Wteidw3tf"
      },
      "execution_count": null,
      "outputs": []
    }
  ]
}